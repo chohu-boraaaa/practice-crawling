{
 "cells": [
  {
   "cell_type": "markdown",
   "metadata": {},
   "source": [
    "# 문자열에서 특정 문자 사이를 추출해주는 코드를 짜봅시다\n",
    "\n",
    "- 공부 출처 : http://daplus.net/python-%EB%91%90-%EB%A7%88%EC%BB%A4-%EC%82%AC%EC%9D%B4%EC%9D%98-%EB%B6%80%EB%B6%84-%EB%AC%B8%EC%9E%90%EC%97%B4%EC%9D%84-%EC%B6%94%EC%B6%9C%ED%95%98%EB%8A%94-%EB%B0%A9%EB%B2%95%EC%9D%80-%EB%AC%B4/"
   ]
  },
  {
   "cell_type": "markdown",
   "metadata": {},
   "source": [
    "#### 문자열 : 해당업체에서 제조한 '쇠고기 스튜(유형:양념육)'에서 세균발육 양성으로, 판매 중단 및 회수 조치중이며, 회수대상은 유통기한 2024년 6월 20일 제품\n",
    "- 위 문자열 추출 출처 : https://www.foodsafetykorea.go.kr/portal/fooddanger/suspension.do?menu_no=2713&menu_grp=MENU_NEW02\n",
    "\n",
    "##### 위의 문자열에서 식품 유형인 양념육만 추출하고 싶을 때 어떻게 해야 할까요?\n",
    "- 정규표현식을 이용하여 해결합니다"
   ]
  },
  {
   "cell_type": "code",
   "execution_count": 1,
   "metadata": {},
   "outputs": [],
   "source": [
    "text = '''해당업체에서 제조한 '쇠고기 스튜(유형:양념육)'에서 세균발육 양성으로, 판매 중단 및 회수 조치중이며, 회수대상은 유통기한 2024년 6월 20일 제품'''"
   ]
  },
  {
   "cell_type": "code",
   "execution_count": 2,
   "metadata": {},
   "outputs": [],
   "source": [
    "# 정규표현식 모듈 re import\n",
    "import re"
   ]
  },
  {
   "cell_type": "code",
   "execution_count": 10,
   "metadata": {},
   "outputs": [],
   "source": [
    "m = re.search('유형\\:(.+?)\\)', text)"
   ]
  },
  {
   "cell_type": "markdown",
   "metadata": {},
   "source": [
    "- 위의 문자열에서 '유형:'과 ')' 사이를 추출하고자 합니다. 단 :, '와 같은 특수 문자들 앞에는 '\\'를 붙여줘야 합니다,"
   ]
  },
  {
   "cell_type": "code",
   "execution_count": 11,
   "metadata": {},
   "outputs": [
    {
     "name": "stdout",
     "output_type": "stream",
     "text": [
      "<re.Match object; span=(19, 26), match='유형:양념육)'>\n"
     ]
    }
   ],
   "source": [
    "print(m)"
   ]
  },
  {
   "cell_type": "code",
   "execution_count": 16,
   "metadata": {},
   "outputs": [
    {
     "name": "stdout",
     "output_type": "stream",
     "text": [
      "유형:양념육)\n"
     ]
    }
   ],
   "source": [
    "# m.group(0) : 유형:양념육) 이 모두 나옴\n",
    "print(m.group(0))"
   ]
  },
  {
   "cell_type": "code",
   "execution_count": 17,
   "metadata": {},
   "outputs": [
    {
     "name": "stdout",
     "output_type": "stream",
     "text": [
      "양념육\n"
     ]
    }
   ],
   "source": [
    "# m.group(1) : 원하는 텍스트인 양념육이 추출되어 나옴\n",
    "print(m.group(1))"
   ]
  },
  {
   "cell_type": "markdown",
   "metadata": {},
   "source": [
    "# 숫자만 추출하여 원하는 형태로 변경해주기\n",
    "\n",
    "#### '2022.08.21' 에서 2022-08-21로 변경해주기"
   ]
  },
  {
   "cell_type": "code",
   "execution_count": 3,
   "metadata": {},
   "outputs": [],
   "source": [
    "import re"
   ]
  },
  {
   "cell_type": "code",
   "execution_count": 1,
   "metadata": {},
   "outputs": [],
   "source": [
    "str_date = '2022.08.21'"
   ]
  },
  {
   "cell_type": "code",
   "execution_count": 4,
   "metadata": {},
   "outputs": [
    {
     "data": {
      "text/plain": [
       "'2022-08-21'"
      ]
     },
     "execution_count": 4,
     "metadata": {},
     "output_type": "execute_result"
    }
   ],
   "source": [
    "re.sub(r'[^0-9]', '-', str_date)"
   ]
  }
 ],
 "metadata": {
  "hide_input": false,
  "kernelspec": {
   "display_name": "Python 3",
   "language": "python",
   "name": "python3"
  },
  "language_info": {
   "codemirror_mode": {
    "name": "ipython",
    "version": 3
   },
   "file_extension": ".py",
   "mimetype": "text/x-python",
   "name": "python",
   "nbconvert_exporter": "python",
   "pygments_lexer": "ipython3",
   "version": "3.8.5"
  },
  "toc": {
   "base_numbering": 1,
   "nav_menu": {},
   "number_sections": true,
   "sideBar": true,
   "skip_h1_title": false,
   "title_cell": "Table of Contents",
   "title_sidebar": "Contents",
   "toc_cell": false,
   "toc_position": {},
   "toc_section_display": true,
   "toc_window_display": false
  }
 },
 "nbformat": 4,
 "nbformat_minor": 4
}
