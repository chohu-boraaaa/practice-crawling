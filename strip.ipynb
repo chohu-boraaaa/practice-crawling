{
 "cells": [
  {
   "cell_type": "markdown",
   "metadata": {},
   "source": [
    "# 파이썬 스트립\n",
    "\n",
    "- 출처 : [https://www.entity.co.kr/entry/Python-String-strip-%ED%95%A8%EC%88%98-strip-%ED%95%A8%EC%88%98%EC%9D%98-%EC%A0%95%EC%9D%98](https://www.entity.co.kr/entry/Python-String-strip-%ED%95%A8%EC%88%98-strip-%ED%95%A8%EC%88%98%EC%9D%98-%EC%A0%95%EC%9D%98)\n",
    "- strip() 메서드는 원래 문자열의 시작과 끝에서 주어진 문자 제거\n",
    "- 기본적으로 strip() 함수는 문자열의 시작과 끝에서 공백을 제거하고 공백 없이 동일한 문자열 반환"
   ]
  },
  {
   "cell_type": "code",
   "execution_count": 2,
   "metadata": {},
   "outputs": [
    {
     "name": "stdout",
     "output_type": "stream",
     "text": [
      "Hello\n"
     ]
    }
   ],
   "source": [
    "str = \"   Hello    \"\n",
    "print(str.strip())"
   ]
  },
  {
   "cell_type": "code",
   "execution_count": 1,
   "metadata": {},
   "outputs": [
    {
     "name": "stdout",
     "output_type": "stream",
     "text": [
      "Welcome to Entity05\n"
     ]
    }
   ],
   "source": [
    "str1 = \"****Welcome to Entity05****\"\n",
    "print(str1.strip(\"*\"))"
   ]
  },
  {
   "cell_type": "markdown",
   "metadata": {},
   "source": [
    "# 스트립을 사용하는 이유\n",
    "- 원래 문자열에서 제거하도록 지정된 문자를 기반으로 문자열 시작과 문자열 끝의 문자를 제거하는 데 도움이 된다.\n",
    "- 주어진 문자가 원래 문자열과 일치하지 않으면 문자열을 있는 그대로 반환\n",
    "- 제거할 문자를 지정하지 않으면 원래 문자열의 시작과 끝에서 공백 제거\n",
    "- 시작 또는 끝에 공백이 없는 문자열을 있는 그대로 반환"
   ]
  },
  {
   "cell_type": "markdown",
   "metadata": {},
   "source": []
  }
 ],
 "metadata": {
  "kernelspec": {
   "display_name": "Python 3.9.2 64-bit",
   "language": "python",
   "name": "python3"
  },
  "language_info": {
   "codemirror_mode": {
    "name": "ipython",
    "version": 3
   },
   "file_extension": ".py",
   "mimetype": "text/x-python",
   "name": "python",
   "nbconvert_exporter": "python",
   "pygments_lexer": "ipython3",
   "version": "3.9.2"
  },
  "orig_nbformat": 4,
  "vscode": {
   "interpreter": {
    "hash": "e68bafc6deccff08e1ee0f9acfc0c6e898f368699f8f06df9a6af08fb2a0309e"
   }
  }
 },
 "nbformat": 4,
 "nbformat_minor": 2
}
